{
  "cells": [
    {
      "cell_type": "markdown",
      "metadata": {
        "id": "view-in-github",
        "colab_type": "text"
      },
      "source": [
        "<a href=\"https://colab.research.google.com/github/tilakpatel22/Fintechstartup/blob/main/news_sentiment_demo.ipynb\" target=\"_parent\"><img src=\"https://colab.research.google.com/assets/colab-badge.svg\" alt=\"Open In Colab\"/></a>"
      ]
    },
    {
      "cell_type": "markdown",
      "source": [
        "##**FINCEPT TERMINAL DEMO**\n",
        "\n",
        "---\n",
        "\n",
        "\n"
      ],
      "metadata": {
        "id": "jFmTe8AbHxua"
      },
      "id": "jFmTe8AbHxua"
    },
    {
      "cell_type": "markdown",
      "source": [
        "INSTALL THE LIBRARY"
      ],
      "metadata": {
        "id": "oLmb_cz0JMxK"
      },
      "id": "oLmb_cz0JMxK"
    },
    {
      "cell_type": "code",
      "source": [
        "pip install fincept-investments"
      ],
      "metadata": {
        "colab": {
          "base_uri": "https://localhost:8080/"
        },
        "id": "JifHHg6iJQVK",
        "outputId": "4054edc9-32f6-49fd-8962-20d714e1adb9"
      },
      "id": "JifHHg6iJQVK",
      "execution_count": 3,
      "outputs": [
        {
          "output_type": "stream",
          "name": "stdout",
          "text": [
            "Collecting fincept-investments\n",
            "  Downloading fincept_investments-0.1.2-py3-none-any.whl.metadata (3.4 kB)\n",
            "Requirement already satisfied: requests in /usr/local/lib/python3.11/dist-packages (from fincept-investments) (2.32.3)\n",
            "Requirement already satisfied: rich in /usr/local/lib/python3.11/dist-packages (from fincept-investments) (13.9.4)\n",
            "Collecting gnews (from fincept-investments)\n",
            "  Downloading gnews-0.3.9-py3-none-any.whl.metadata (19 kB)\n",
            "Requirement already satisfied: click in /usr/local/lib/python3.11/dist-packages (from fincept-investments) (8.1.8)\n",
            "Collecting feedparser~=6.0.2 (from gnews->fincept-investments)\n",
            "  Downloading feedparser-6.0.11-py3-none-any.whl.metadata (2.4 kB)\n",
            "Requirement already satisfied: beautifulsoup4<5,>=4.9.3 in /usr/local/lib/python3.11/dist-packages (from gnews->fincept-investments) (4.12.3)\n",
            "Collecting dnspython (from gnews->fincept-investments)\n",
            "  Downloading dnspython-2.7.0-py3-none-any.whl.metadata (5.8 kB)\n",
            "Requirement already satisfied: charset-normalizer<4,>=2 in /usr/local/lib/python3.11/dist-packages (from requests->fincept-investments) (3.4.1)\n",
            "Requirement already satisfied: idna<4,>=2.5 in /usr/local/lib/python3.11/dist-packages (from requests->fincept-investments) (3.10)\n",
            "Requirement already satisfied: urllib3<3,>=1.21.1 in /usr/local/lib/python3.11/dist-packages (from requests->fincept-investments) (2.3.0)\n",
            "Requirement already satisfied: certifi>=2017.4.17 in /usr/local/lib/python3.11/dist-packages (from requests->fincept-investments) (2024.12.14)\n",
            "Requirement already satisfied: markdown-it-py>=2.2.0 in /usr/local/lib/python3.11/dist-packages (from rich->fincept-investments) (3.0.0)\n",
            "Requirement already satisfied: pygments<3.0.0,>=2.13.0 in /usr/local/lib/python3.11/dist-packages (from rich->fincept-investments) (2.18.0)\n",
            "Requirement already satisfied: soupsieve>1.2 in /usr/local/lib/python3.11/dist-packages (from beautifulsoup4<5,>=4.9.3->gnews->fincept-investments) (2.6)\n",
            "Collecting sgmllib3k (from feedparser~=6.0.2->gnews->fincept-investments)\n",
            "  Downloading sgmllib3k-1.0.0.tar.gz (5.8 kB)\n",
            "  Preparing metadata (setup.py) ... \u001b[?25l\u001b[?25hdone\n",
            "Requirement already satisfied: mdurl~=0.1 in /usr/local/lib/python3.11/dist-packages (from markdown-it-py>=2.2.0->rich->fincept-investments) (0.1.2)\n",
            "Downloading fincept_investments-0.1.2-py3-none-any.whl (24 kB)\n",
            "Downloading gnews-0.3.9-py3-none-any.whl (17 kB)\n",
            "Downloading feedparser-6.0.11-py3-none-any.whl (81 kB)\n",
            "\u001b[2K   \u001b[90m━━━━━━━━━━━━━━━━━━━━━━━━━━━━━━━━━━━━━━━━\u001b[0m \u001b[32m81.3/81.3 kB\u001b[0m \u001b[31m3.4 MB/s\u001b[0m eta \u001b[36m0:00:00\u001b[0m\n",
            "\u001b[?25hDownloading dnspython-2.7.0-py3-none-any.whl (313 kB)\n",
            "\u001b[2K   \u001b[90m━━━━━━━━━━━━━━━━━━━━━━━━━━━━━━━━━━━━━━━━\u001b[0m \u001b[32m313.6/313.6 kB\u001b[0m \u001b[31m11.5 MB/s\u001b[0m eta \u001b[36m0:00:00\u001b[0m\n",
            "\u001b[?25hBuilding wheels for collected packages: sgmllib3k\n",
            "  Building wheel for sgmllib3k (setup.py) ... \u001b[?25l\u001b[?25hdone\n",
            "  Created wheel for sgmllib3k: filename=sgmllib3k-1.0.0-py3-none-any.whl size=6047 sha256=4c10194b6fdc3d12103cb0fb9282f866360c5192cae1f46fecd50ad3a61e1c18\n",
            "  Stored in directory: /root/.cache/pip/wheels/3b/25/2a/105d6a15df6914f4d15047691c6c28f9052cc1173e40285d03\n",
            "Successfully built sgmllib3k\n",
            "Installing collected packages: sgmllib3k, feedparser, dnspython, gnews, fincept-investments\n",
            "Successfully installed dnspython-2.7.0 feedparser-6.0.11 fincept-investments-0.1.2 gnews-0.3.9 sgmllib3k-1.0.0\n"
          ]
        }
      ]
    },
    {
      "cell_type": "markdown",
      "id": "152336b2",
      "metadata": {
        "id": "152336b2"
      },
      "source": [
        "\n",
        "# Demonstrating the Global News and Sentiment Analysis Module\n",
        "\n",
        "This notebook demonstrates how to use the functions provided in the `fincept_terminal` library for fetching news, analyzing sentiment, and displaying results interactively.\n"
      ]
    },
    {
      "cell_type": "code",
      "execution_count": 4,
      "id": "033ec79d",
      "metadata": {
        "id": "033ec79d",
        "colab": {
          "base_uri": "https://localhost:8080/",
          "height": 383
        },
        "outputId": "a032c98c-dcba-471b-e28e-360698fd7cb8"
      },
      "outputs": [
        {
          "output_type": "error",
          "ename": "ModuleNotFoundError",
          "evalue": "No module named 'fincept_terminal.global_news'",
          "traceback": [
            "\u001b[0;31m---------------------------------------------------------------------------\u001b[0m",
            "\u001b[0;31mModuleNotFoundError\u001b[0m                       Traceback (most recent call last)",
            "\u001b[0;32m<ipython-input-4-d30100992ce0>\u001b[0m in \u001b[0;36m<cell line: 0>\u001b[0;34m()\u001b[0m\n\u001b[1;32m      1\u001b[0m \u001b[0;31m# Import necessary functions from the module\u001b[0m\u001b[0;34m\u001b[0m\u001b[0;34m\u001b[0m\u001b[0m\n\u001b[0;32m----> 2\u001b[0;31m from fincept_terminal.global_news import (\n\u001b[0m\u001b[1;32m      3\u001b[0m     \u001b[0mfetch_and_display_news\u001b[0m\u001b[0;34m,\u001b[0m\u001b[0;34m\u001b[0m\u001b[0;34m\u001b[0m\u001b[0m\n\u001b[1;32m      4\u001b[0m     \u001b[0mfetch_custom_news\u001b[0m\u001b[0;34m,\u001b[0m\u001b[0;34m\u001b[0m\u001b[0;34m\u001b[0m\u001b[0m\n\u001b[1;32m      5\u001b[0m     \u001b[0mdisplay_sentiment_bar\u001b[0m\u001b[0;34m\u001b[0m\u001b[0;34m\u001b[0m\u001b[0m\n",
            "\u001b[0;31mModuleNotFoundError\u001b[0m: No module named 'fincept_terminal.global_news'",
            "",
            "\u001b[0;31m---------------------------------------------------------------------------\u001b[0;32m\nNOTE: If your import is failing due to a missing package, you can\nmanually install dependencies using either !pip or !apt.\n\nTo view examples of installing some common dependencies, click the\n\"Open Examples\" button below.\n\u001b[0;31m---------------------------------------------------------------------------\u001b[0m\n"
          ],
          "errorDetails": {
            "actions": [
              {
                "action": "open_url",
                "actionText": "Open Examples",
                "url": "/notebooks/snippets/importing_libraries.ipynb"
              }
            ]
          }
        }
      ],
      "source": [
        "# Import necessary functions from the module\n",
        "from fincept_terminal.global_news import (\n",
        "    fetch_and_display_news,\n",
        "    fetch_custom_news,\n",
        "    display_sentiment_bar\n",
        ")\n",
        "from rich.console import Console\n",
        "\n",
        "# Initialize a console for styled output\n",
        "console = Console()\n"
      ]
    },
    {
      "cell_type": "markdown",
      "id": "dd26e984",
      "metadata": {
        "id": "dd26e984"
      },
      "source": [
        "\n",
        "## Step 1: Fetch News and Analyze Sentiment\n",
        "\n",
        "Use the `fetch_and_display_news` function to fetch news articles for a specific country and topic, and analyze the sentiment of the headlines.\n"
      ]
    },
    {
      "cell_type": "code",
      "execution_count": null,
      "id": "9502af5f",
      "metadata": {
        "id": "9502af5f"
      },
      "outputs": [],
      "source": [
        "\n",
        "# Fetch and display news for a specific country and topic\n",
        "country = \"United States\"\n",
        "topic = \"Business\"\n",
        "\n",
        "console.print(f\"[bold cyan]Fetching news for {topic} in {country}...[/bold cyan]\")\n",
        "fetch_and_display_news(country, topic)\n"
      ]
    },
    {
      "cell_type": "markdown",
      "id": "785a0a33",
      "metadata": {
        "id": "785a0a33"
      },
      "source": [
        "\n",
        "## Step 2: Fetch Custom News Based on a Query\n",
        "\n",
        "Use the `fetch_custom_news` function to search for news articles based on a custom keyword query and display the sentiment analysis results.\n"
      ]
    },
    {
      "cell_type": "code",
      "execution_count": null,
      "id": "b0cd4d70",
      "metadata": {
        "id": "b0cd4d70"
      },
      "outputs": [],
      "source": [
        "\n",
        "# Fetch custom news based on a query\n",
        "query = \"Artificial Intelligence\"\n",
        "country = \"United Kingdom\"\n",
        "\n",
        "console.print(f\"[bold cyan]Fetching custom news for query: {query} in {country}...[/bold cyan]\")\n",
        "fetch_custom_news(query, country)\n"
      ]
    },
    {
      "cell_type": "markdown",
      "id": "e8d75548",
      "metadata": {
        "id": "e8d75548"
      },
      "source": [
        "\n",
        "## Step 3: Display Sentiment Analysis Summary\n",
        "\n",
        "Use the `display_sentiment_bar` function to display the sentiment analysis results as an ASCII bar chart.\n"
      ]
    },
    {
      "cell_type": "code",
      "execution_count": null,
      "id": "e0702f86",
      "metadata": {
        "id": "e0702f86"
      },
      "outputs": [],
      "source": [
        "\n",
        "# Example sentiment counts\n",
        "positive_count = 15\n",
        "neutral_count = 5\n",
        "negative_count = 3\n",
        "\n",
        "console.print(\"[bold cyan]Displaying sentiment analysis bar chart...[/bold cyan]\")\n",
        "display_sentiment_bar(positive_count, neutral_count, negative_count)\n"
      ]
    },
    {
      "cell_type": "markdown",
      "id": "125ade87",
      "metadata": {
        "id": "125ade87"
      },
      "source": [
        "\n",
        "## Step 4: Interactive News Menu\n",
        "\n",
        "Use the `show_news_and_sentiment_menu` function for an interactive menu to fetch global news and analyze sentiment by continent and country.\n"
      ]
    },
    {
      "cell_type": "code",
      "execution_count": null,
      "id": "12651078",
      "metadata": {
        "id": "12651078"
      },
      "outputs": [],
      "source": [
        "\n",
        "# Interactive menu for news and sentiment analysis\n",
        "from fincept_terminal.global_news import show_news_and_sentiment_menu\n",
        "\n",
        "console.print(\"[bold cyan]Launching interactive news and sentiment menu...[/bold cyan]\")\n",
        "show_news_and_sentiment_menu()\n"
      ]
    },
    {
      "cell_type": "markdown",
      "id": "e330ca79",
      "metadata": {
        "id": "e330ca79"
      },
      "source": [
        "\n",
        "## Summary\n",
        "\n",
        "This notebook demonstrated how to:\n",
        "1. Fetch and display news articles by country and topic using `fetch_and_display_news`.\n",
        "2. Fetch custom news articles based on a query using `fetch_custom_news`.\n",
        "3. Analyze and display sentiment results using `display_sentiment_bar`.\n",
        "4. Use the interactive menu for news and sentiment analysis with `show_news_and_sentiment_menu`.\n",
        "\n",
        "You can modify the `country`, `topic`, and `query` parameters to explore more news and sentiment analysis cases.\n"
      ]
    }
  ],
  "metadata": {
    "colab": {
      "provenance": [],
      "include_colab_link": true
    },
    "language_info": {
      "name": "python"
    },
    "kernelspec": {
      "name": "python3",
      "display_name": "Python 3"
    }
  },
  "nbformat": 4,
  "nbformat_minor": 5
}